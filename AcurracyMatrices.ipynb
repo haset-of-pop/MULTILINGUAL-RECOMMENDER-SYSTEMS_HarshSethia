{
  "nbformat": 4,
  "nbformat_minor": 0,
  "metadata": {
    "colab": {
      "provenance": []
    },
    "kernelspec": {
      "name": "python3",
      "display_name": "Python 3"
    },
    "language_info": {
      "name": "python"
    }
  },
  "cells": [
    {
      "cell_type": "code",
      "execution_count": null,
      "metadata": {
        "id": "O2_S4SKr8KTy"
      },
      "outputs": [],
      "source": [
        "import numpy as np\n",
        "import matplotlib.pyplot as plt\n",
        "\n",
        "# Function to calculate accuracy metrics\n",
        "def calculate_accuracy_metrics(predictions, ground_truth):\n",
        "    precision = np.mean([len(np.intersect1d(pred, gt)) / len(pred) for pred, gt in zip(predictions, ground_truth)])\n",
        "    recall = np.mean([len(np.intersect1d(pred, gt)) / len(gt) for pred, gt in zip(predictions, ground_truth)])\n",
        "    f1_score = 2 * (precision * recall) / (precision + recall)\n",
        "    return precision, recall, f1_score\n",
        "\n",
        "# Function to plot accuracy metrics\n",
        "def plot_accuracy_metrics(precisions, recalls, f1_scores, locales):\n",
        "    plt.figure(figsize=(8, 6))\n",
        "    plt.plot(locales, precisions, marker='o', label='Precision')\n",
        "    plt.plot(locales, recalls, marker='o', label='Recall')\n",
        "    plt.plot(locales, f1_scores, marker='o', label='F1 Score')\n",
        "    plt.xlabel('Locale')\n",
        "    plt.ylabel('Score')\n",
        "    plt.title('Accuracy Metrics for Recommendation Models')\n",
        "    plt.legend()\n",
        "    plt.show()\n",
        "\n",
        "# Load the ground truth data for each locale\n",
        "ground_truth = {}\n",
        "locales = ['UK', 'DE', 'JP', 'ES', 'FR', 'IT']\n",
        "for locale in locales:\n",
        "    ground_truth[locale] = pd.read_csv(f\"ground_truth_{locale}.csv\")['recommended_product_ids'].tolist()\n",
        "\n",
        "# Calculate accuracy metrics for each locale\n",
        "precisions = []\n",
        "recalls = []\n",
        "f1_scores = []\n",
        "for locale in locales:\n",
        "    recommended_product_ids = pd.read_csv(f\"RESULTS_{locale}.csv\")['recommended_product_ids'].tolist()\n",
        "    precision, recall, f1_score = calculate_accuracy_metrics(recommended_product_ids, ground_truth[locale])\n",
        "    precisions.append(precision)\n",
        "    recalls.append(recall)\n",
        "    f1_scores.append(f1_score)\n",
        "\n",
        "# Plot accuracy metrics\n",
        "plot_accuracy_metrics(precisions, recalls, f1_scores, locales)"
      ]
    }
  ]
}